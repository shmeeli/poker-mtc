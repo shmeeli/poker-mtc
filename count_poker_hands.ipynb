{
 "cells": [
  {
   "cell_type": "code",
   "execution_count": 3,
   "metadata": {
    "colab": {},
    "colab_type": "code",
    "collapsed": true,
    "id": "5fORUmr0Gghc"
   },
   "outputs": [],
   "source": [
    "import pandas as pd\n",
    "import numpy as np\n",
    "import seaborn as sns\n",
    "import matplotlib.pyplot as plt\n",
    "from IPython.display import display\n",
    "\n",
    "import matplotlib\n",
    "%matplotlib inline"
   ]
  },
  {
   "cell_type": "markdown",
   "metadata": {
    "colab_type": "text",
    "id": "-JsNgSIRa_-b"
   },
   "source": [
    "# Objective - simulate 5 card poker hand probablities\n",
    "\n",
    "A deck of playing cards has 52 cards with 13 in one of four suites:\n",
    "* Clubs\n",
    "* Spades\n",
    "* Hearts \n",
    "* Dimonds\n",
    "\n",
    "The thirteen cards are:\n",
    "* [2,3,4,5,6,7,8,9,10,J,Q,K,A]\n",
    "With the high cards being: Jack, Queen, King, and Ace\n",
    "\n",
    "We want to calculate the probablities of getting different five card poker hands using simulation.  The mathmatically calculated probablities can be found [here](https://en.wikipedia.org/wiki/Poker_probability#Frequency_of_5-card_poker_hands).\n",
    "\n",
    "The hands we will calculate are:\n",
    "* Straight Flush - five cards in order and of the same suite \n",
    " * e.g. S8,S9,S10,SJ,SQ\n",
    "* Four of a kind - four cards of the same face value \n",
    " * e.g H9, D9, C9, S9, S2\n",
    "* Full House - a three of a kind and a pair\n",
    " * e.g H4, D4, C4, D7, S7\n",
    "* Straight - five cards in order\n",
    " * e.g H6, D7, C8, S9, S10\n",
    "* Three of a kind -  three cards of the same value\n",
    " * e.g H9, D9, C9, D7, S2\n",
    "* Two Pair - two sets of pairs\n",
    " * e.g H9, D9, C6, S6, S8\n",
    "* Pair - two cards of the same value\n",
    " * e.g H9, D9, C4, S8, S2\n",
    "* High Card - none of the above\n",
    " * e.g H4, D8, C10, SK, SA\n",
    " \n",
    " Below we provide some helper functions to make a deck and find the hand type given five cards.  We simplify the alogorithm by making [J, Q, K, A] have a face value of [11, 12, 13, 14].\n",
    " \n"
   ]
  },
  {
   "cell_type": "code",
   "execution_count": 2,
   "metadata": {
    "colab": {},
    "colab_type": "code",
    "collapsed": true,
    "id": "T_w7PHuZGghk"
   },
   "outputs": [],
   "source": [
    "from collections import Counter\n",
    "\n",
    "# Helper functions to determine the kind of poker hand\n",
    "hand_types = ['straight_flush', 'four_kind', 'full_house', 'flush', 'straight', 'three_kind', 'two_pair',  'pair', 'high_card']\n",
    "\n",
    "# A card is a string '{}{}'.format(suit,face) e.g.  D10, C11, or H2\n",
    "# J = 11, Q = 12, K = 13, A = 14\n",
    "def get_hand_type(hand):\n",
    "    faces = [ int(c[1:]) for c in hand ]\n",
    "    faces.sort()\n",
    "    counts = Counter(faces).most_common()\n",
    "    suits = [ c[0] for c in hand ]\n",
    "    \n",
    "    # Boolean flags for flush and staight\n",
    "    is_flush = len(Counter(suits)) == 1\n",
    "    is_straight = faces == list(range(faces[0],faces[0]+5))\n",
    "    \n",
    "    if is_straight and is_flush:\n",
    "        return 'straight_flush'\n",
    "    if counts[0][1] == 4:\n",
    "        return 'four_kind'\n",
    "    if counts[0][1] == 3 and counts[1][1] == 2:\n",
    "        return 'full_house'\n",
    "    if is_flush:\n",
    "        return 'flush'\n",
    "    if is_straight:\n",
    "        return 'straight'\n",
    "    if counts[0][1] == 3:\n",
    "        return 'three_kind'\n",
    "    if counts[0][1] == 2 and counts[1][1] == 2:\n",
    "        return 'two_pair'\n",
    "    if counts[0][1] == 2:\n",
    "        return 'pair'\n",
    "    return 'high_card'"
   ]
  },
  {
   "cell_type": "code",
   "execution_count": 1,
   "metadata": {
    "colab": {},
    "colab_type": "code",
    "collapsed": true,
    "id": "c_SOJxs1Gghp"
   },
   "outputs": [],
   "source": [
    "# Make a deck of all possible cards\n",
    "deck = [ '{}{}'.format(suit,face) for suit in ['H','D','S','C'] for face in range(2,15) ]\n",
    "\n",
    "# Make dict for counting hands {'flush':0, 'pair':0 ....}\n",
    "def get_zero_counts():\n",
    "    return Counter( {hand_type:0 for hand_type in hand_types} )\n",
    "\n"
   ]
  },
  {
   "cell_type": "code",
   "execution_count": 10,
   "metadata": {},
   "outputs": [
    {
     "name": "stdout",
     "output_type": "stream",
     "text": [
      "['H13' 'S6' 'C13' 'D12' 'H5']\n"
     ]
    },
    {
     "data": {
      "text/plain": [
       "Counter({'flush': 0,\n",
       "         'four_kind': 0,\n",
       "         'full_house': 0,\n",
       "         'high_card': 0,\n",
       "         'pair': 1,\n",
       "         'straight': 0,\n",
       "         'straight_flush': 0,\n",
       "         'three_kind': 0,\n",
       "         'two_pair': 0})"
      ]
     },
     "execution_count": 10,
     "metadata": {},
     "output_type": "execute_result"
    }
   ],
   "source": [
    "hand = np.random.choice(deck, 5)\n",
    "print(hand)\n",
    "get_zero_counts()\n",
    "counts = get_zero_counts()\n",
    "counts[get_hand_type(hand)] +=1\n",
    "counts"
   ]
  },
  {
   "cell_type": "code",
   "execution_count": 12,
   "metadata": {},
   "outputs": [
    {
     "name": "stdout",
     "output_type": "stream",
     "text": [
      "Counter({'high_card': 49, 'pair': 37, 'three_kind': 6, 'two_pair': 4, 'four_kind': 1, 'full_house': 1, 'flush': 1, 'straight': 1, 'straight_flush': 0})\n"
     ]
    }
   ],
   "source": [
    "print(simulate_hands())"
   ]
  },
  {
   "cell_type": "markdown",
   "metadata": {
    "colab_type": "text",
    "id": "THwjCiGLex8w"
   },
   "source": [
    " # Task\n",
    " * Complete the simulate hands function which returns a dictionary with the frequancy of each hand.\n",
    "  * Hint: use [np.random.choice](https://docs.scipy.org/doc/numpy/reference/routines.random.html) to select a hand from the deck.\n",
    " * Test this function on a few small n values.\n",
    " * Make histograms showing the frequence for 10, 100, 1000, and 10,000 hands.\n",
    "  * Hint: aim to make a DataFrame with the index as n and columns for hand counts.\n",
    "  * Hint: make multiple axis in one figure with: `fig , ax = plt.subplots(2,2,figsize=(10,10),sharey='all', sharex='all')`\n",
    " \n",
    " \n",
    " You should work in groups of 2 - 3 for this.  **If your group makes four correct histograms (with an axis title on each) you will get bonus XP).**"
   ]
  },
  {
   "cell_type": "code",
   "execution_count": 11,
   "metadata": {
    "colab": {},
    "colab_type": "code",
    "collapsed": true,
    "id": "bGaVXaZZGghu"
   },
   "outputs": [],
   "source": [
    "def simulate_hands(n=100):\n",
    "    counts = get_zero_counts()\n",
    "    for i in range(0,n):\n",
    "        hand = np.random.choice(deck, 5)\n",
    "        counts[get_hand_type(hand)] +=1\n",
    "    # return a dictionary of counts after selection n random hands\n",
    "    return counts # Delete this and return a dictonary of hand counts.\n",
    "        "
   ]
  },
  {
   "cell_type": "code",
   "execution_count": 36,
   "metadata": {
    "colab": {},
    "colab_type": "code",
    "id": "kGI1YRKrGghx",
    "outputId": "10b124c4-23dc-4a69-d7cb-5f2af7d8fc52"
   },
   "outputs": [
    {
     "data": {
      "text/html": [
       "<div>\n",
       "<style>\n",
       "    .dataframe thead tr:only-child th {\n",
       "        text-align: right;\n",
       "    }\n",
       "\n",
       "    .dataframe thead th {\n",
       "        text-align: left;\n",
       "    }\n",
       "\n",
       "    .dataframe tbody tr th {\n",
       "        vertical-align: top;\n",
       "    }\n",
       "</style>\n",
       "<table border=\"1\" class=\"dataframe\">\n",
       "  <thead>\n",
       "    <tr style=\"text-align: right;\">\n",
       "      <th></th>\n",
       "      <th>flush</th>\n",
       "      <th>four_kind</th>\n",
       "      <th>full_house</th>\n",
       "      <th>high_card</th>\n",
       "      <th>pair</th>\n",
       "      <th>straight</th>\n",
       "      <th>straight_flush</th>\n",
       "      <th>three_kind</th>\n",
       "      <th>two_pair</th>\n",
       "    </tr>\n",
       "  </thead>\n",
       "  <tbody>\n",
       "    <tr>\n",
       "      <th>10</th>\n",
       "      <td>0</td>\n",
       "      <td>0</td>\n",
       "      <td>0</td>\n",
       "      <td>5</td>\n",
       "      <td>4</td>\n",
       "      <td>0</td>\n",
       "      <td>0</td>\n",
       "      <td>1</td>\n",
       "      <td>0</td>\n",
       "    </tr>\n",
       "    <tr>\n",
       "      <th>100</th>\n",
       "      <td>0</td>\n",
       "      <td>0</td>\n",
       "      <td>2</td>\n",
       "      <td>38</td>\n",
       "      <td>50</td>\n",
       "      <td>0</td>\n",
       "      <td>0</td>\n",
       "      <td>2</td>\n",
       "      <td>8</td>\n",
       "    </tr>\n",
       "    <tr>\n",
       "      <th>1000</th>\n",
       "      <td>3</td>\n",
       "      <td>2</td>\n",
       "      <td>3</td>\n",
       "      <td>380</td>\n",
       "      <td>480</td>\n",
       "      <td>5</td>\n",
       "      <td>0</td>\n",
       "      <td>48</td>\n",
       "      <td>79</td>\n",
       "    </tr>\n",
       "    <tr>\n",
       "      <th>10000</th>\n",
       "      <td>44</td>\n",
       "      <td>22</td>\n",
       "      <td>42</td>\n",
       "      <td>4071</td>\n",
       "      <td>4612</td>\n",
       "      <td>33</td>\n",
       "      <td>0</td>\n",
       "      <td>463</td>\n",
       "      <td>713</td>\n",
       "    </tr>\n",
       "  </tbody>\n",
       "</table>\n",
       "</div>"
      ],
      "text/plain": [
       "       flush  four_kind  full_house  high_card  pair  straight  \\\n",
       "10         0          0           0          5     4         0   \n",
       "100        0          0           2         38    50         0   \n",
       "1000       3          2           3        380   480         5   \n",
       "10000     44         22          42       4071  4612        33   \n",
       "\n",
       "       straight_flush  three_kind  two_pair  \n",
       "10                  0           1         0  \n",
       "100                 0           2         8  \n",
       "1000                0          48        79  \n",
       "10000               0         463       713  "
      ]
     },
     "execution_count": 36,
     "metadata": {},
     "output_type": "execute_result"
    }
   ],
   "source": [
    "# Make your data frame here\n",
    "df = pd.DataFrame([simulate_hands(10),simulate_hands(100),simulate_hands(1000),simulate_hands(10000)],index=[10,100,1000,10000])\n",
    "\n",
    "\n",
    "df # display df"
   ]
  },
  {
   "cell_type": "code",
   "execution_count": 37,
   "metadata": {
    "colab": {},
    "colab_type": "code",
    "id": "aM0QnQhyGgh4",
    "outputId": "2ad16583-1ab1-409d-9bd3-03d6206446b5"
   },
   "outputs": [
    {
     "data": {
      "text/html": [
       "<div>\n",
       "<style>\n",
       "    .dataframe thead tr:only-child th {\n",
       "        text-align: right;\n",
       "    }\n",
       "\n",
       "    .dataframe thead th {\n",
       "        text-align: left;\n",
       "    }\n",
       "\n",
       "    .dataframe tbody tr th {\n",
       "        vertical-align: top;\n",
       "    }\n",
       "</style>\n",
       "<table border=\"1\" class=\"dataframe\">\n",
       "  <thead>\n",
       "    <tr style=\"text-align: right;\">\n",
       "      <th></th>\n",
       "      <th>flush</th>\n",
       "      <th>four_kind</th>\n",
       "      <th>full_house</th>\n",
       "      <th>high_card</th>\n",
       "      <th>pair</th>\n",
       "      <th>straight</th>\n",
       "      <th>straight_flush</th>\n",
       "      <th>three_kind</th>\n",
       "      <th>two_pair</th>\n",
       "    </tr>\n",
       "  </thead>\n",
       "  <tbody>\n",
       "    <tr>\n",
       "      <th>10</th>\n",
       "      <td>0.00</td>\n",
       "      <td>0.00</td>\n",
       "      <td>0.00</td>\n",
       "      <td>50.00</td>\n",
       "      <td>40.00</td>\n",
       "      <td>0.00</td>\n",
       "      <td>0.0</td>\n",
       "      <td>10.00</td>\n",
       "      <td>0.00</td>\n",
       "    </tr>\n",
       "    <tr>\n",
       "      <th>100</th>\n",
       "      <td>0.00</td>\n",
       "      <td>0.00</td>\n",
       "      <td>2.00</td>\n",
       "      <td>38.00</td>\n",
       "      <td>50.00</td>\n",
       "      <td>0.00</td>\n",
       "      <td>0.0</td>\n",
       "      <td>2.00</td>\n",
       "      <td>8.00</td>\n",
       "    </tr>\n",
       "    <tr>\n",
       "      <th>1000</th>\n",
       "      <td>0.30</td>\n",
       "      <td>0.20</td>\n",
       "      <td>0.30</td>\n",
       "      <td>38.00</td>\n",
       "      <td>48.00</td>\n",
       "      <td>0.50</td>\n",
       "      <td>0.0</td>\n",
       "      <td>4.80</td>\n",
       "      <td>7.90</td>\n",
       "    </tr>\n",
       "    <tr>\n",
       "      <th>10000</th>\n",
       "      <td>0.44</td>\n",
       "      <td>0.22</td>\n",
       "      <td>0.42</td>\n",
       "      <td>40.71</td>\n",
       "      <td>46.12</td>\n",
       "      <td>0.33</td>\n",
       "      <td>0.0</td>\n",
       "      <td>4.63</td>\n",
       "      <td>7.13</td>\n",
       "    </tr>\n",
       "  </tbody>\n",
       "</table>\n",
       "</div>"
      ],
      "text/plain": [
       "       flush  four_kind  full_house  high_card   pair  straight  \\\n",
       "10      0.00       0.00        0.00      50.00  40.00      0.00   \n",
       "100     0.00       0.00        2.00      38.00  50.00      0.00   \n",
       "1000    0.30       0.20        0.30      38.00  48.00      0.50   \n",
       "10000   0.44       0.22        0.42      40.71  46.12      0.33   \n",
       "\n",
       "       straight_flush  three_kind  two_pair  \n",
       "10                0.0       10.00      0.00  \n",
       "100               0.0        2.00      8.00  \n",
       "1000              0.0        4.80      7.90  \n",
       "10000             0.0        4.63      7.13  "
      ]
     },
     "execution_count": 37,
     "metadata": {},
     "output_type": "execute_result"
    }
   ],
   "source": [
    "# make a df_normalized with percents in each row\n",
    "df_normalized.iloc[0] = df.iloc[0]*100/10\n",
    "df_normalized.iloc[1] = df.iloc[1]*100/100\n",
    "df_normalized.iloc[2] = df.iloc[2]*100/1000\n",
    "df_normalized.iloc[3] = df.iloc[3]*100/10000\n",
    "\n",
    "df_normalized # display normalized df"
   ]
  },
  {
   "cell_type": "code",
   "execution_count": 46,
   "metadata": {},
   "outputs": [
    {
     "data": {
      "text/plain": [
       "<matplotlib.text.Text at 0x1eec2c45940>"
      ]
     },
     "execution_count": 46,
     "metadata": {},
     "output_type": "execute_result"
    },
    {
     "data": {
      "image/png": "[encoded data removed]",
      "text/plain": [
       "<matplotlib.figure.Figure at 0x1eec2b457f0>"
      ]
     },
     "metadata": {},
     "output_type": "display_data"
    }
   ],
   "source": [
    "# Make your histograms here.\n",
    "\n",
    "plot1 = df_normalized.iloc[0].plot(kind='bar')\n",
    "plot1.set_title('n = 10')\n"
   ]
  },
  {
   "cell_type": "code",
   "execution_count": 45,
   "metadata": {},
   "outputs": [
    {
     "data": {
      "text/plain": [
       "<matplotlib.text.Text at 0x1eec141b828>"
      ]
     },
     "execution_count": 45,
     "metadata": {},
     "output_type": "execute_result"
    },
    {
     "data": {
      "image/png": "[encoded data removed]",
      "text/plain": [
       "<matplotlib.figure.Figure at 0x1eec13a4e48>"
      ]
     },
     "metadata": {},
     "output_type": "display_data"
    }
   ],
   "source": [
    "plot2 = df_normalized.iloc[1].plot(kind='bar')\n",
    "plot2.set_title('n = 100')"
   ]
  },
  {
   "cell_type": "code",
   "execution_count": 44,
   "metadata": {},
   "outputs": [
    {
     "data": {
      "text/plain": [
       "<matplotlib.text.Text at 0x1eec29af080>"
      ]
     },
     "execution_count": 44,
     "metadata": {},
     "output_type": "execute_result"
    },
    {
     "data": {
      "image/png": "[encoded data removed]",
      "text/plain": [
       "<matplotlib.figure.Figure at 0x1eec14c7c88>"
      ]
     },
     "metadata": {},
     "output_type": "display_data"
    }
   ],
   "source": [
    "plot3 = df_normalized.iloc[2].plot(kind='bar')\n",
    "plot3.set_title('n = 1000')"
   ]
  },
  {
   "cell_type": "code",
   "execution_count": 43,
   "metadata": {},
   "outputs": [
    {
     "data": {
      "text/plain": [
       "<matplotlib.text.Text at 0x1eec1303710>"
      ]
     },
     "execution_count": 43,
     "metadata": {},
     "output_type": "execute_result"
    },
    {
     "data": {
      "image/png": "[encoded data removed]",
      "text/plain": [
       "<matplotlib.figure.Figure at 0x1eec14e2668>"
      ]
     },
     "metadata": {},
     "output_type": "display_data"
    }
   ],
   "source": [
    "plot4 = df_normalized.iloc[3].plot(kind='bar')\n",
    "plot4.set_title('n = 10000')"
   ]
  }
 ],
 "metadata": {
  "colab": {
   "name": "count_poker_hands.ipynb",
   "provenance": [],
   "version": "0.3.2"
  },
  "kernelspec": {
   "display_name": "Python 3",
   "language": "python",
   "name": "python3"
  },
  "language_info": {
   "codemirror_mode": {
    "name": "ipython",
    "version": 3
   },
   "file_extension": ".py",
   "mimetype": "text/x-python",
   "name": "python",
   "nbconvert_exporter": "python",
   "pygments_lexer": "ipython3",
   "version": "3.6.1"
  }
 },
 "nbformat": 4,
 "nbformat_minor": 2
}
